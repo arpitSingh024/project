{
  "nbformat": 4,
  "nbformat_minor": 0,
  "metadata": {
    "colab": {
      "provenance": []
    },
    "kernelspec": {
      "name": "python3",
      "display_name": "Python 3"
    },
    "language_info": {
      "name": "python"
    }
  },
  "cells": [
    {
      "cell_type": "code",
      "source": [
        "import torch\n",
        "import torch.nn as nn\n",
        "import torch.optim as optim\n",
        "from torch.nn.functional import binary_cross_entropy\n",
        "import torch.nn.functional as F\n",
        "from torch.utils.data import DataLoader, TensorDataset"
      ],
      "metadata": {
        "id": "UGht_2rdjdVe"
      },
      "execution_count": 1,
      "outputs": []
    },
    {
      "cell_type": "code",
      "source": [
        "import numpy as np\n",
        "import pandas as pd\n",
        "import matplotlib.pyplot as plt"
      ],
      "metadata": {
        "id": "qwEys823jU1A"
      },
      "execution_count": 2,
      "outputs": []
    },
    {
      "cell_type": "code",
      "source": [
        "from google.colab import drive\n",
        "drive.mount('/content/drive')"
      ],
      "metadata": {
        "id": "zjrQiU6PjiSZ",
        "colab": {
          "base_uri": "https://localhost:8080/"
        },
        "outputId": "4c1aa732-92ca-477f-f27c-30203510972a"
      },
      "execution_count": 3,
      "outputs": [
        {
          "output_type": "stream",
          "name": "stdout",
          "text": [
            "Mounted at /content/drive\n"
          ]
        }
      ]
    },
    {
      "cell_type": "code",
      "source": [
        "df=pd.read_csv('/content/drive/MyDrive/output.csv')"
      ],
      "metadata": {
        "colab": {
          "base_uri": "https://localhost:8080/"
        },
        "id": "ZV1JTTfw5mCY",
        "outputId": "7caf3d9b-f0c0-44c4-bebd-a82dd88cc533"
      },
      "execution_count": 4,
      "outputs": [
        {
          "output_type": "stream",
          "name": "stderr",
          "text": [
            "<ipython-input-4-14b04c33aebc>:1: DtypeWarning: Columns (71) have mixed types. Specify dtype option on import or set low_memory=False.\n",
            "  df=pd.read_csv('/content/drive/MyDrive/output.csv')\n"
          ]
        }
      ]
    },
    {
      "cell_type": "code",
      "source": [
        "df.shape"
      ],
      "metadata": {
        "colab": {
          "base_uri": "https://localhost:8080/"
        },
        "id": "ss3sJD3T5rZO",
        "outputId": "45f73544-3242-40cc-c4fd-5a5df838ffef"
      },
      "execution_count": 5,
      "outputs": [
        {
          "output_type": "execute_result",
          "data": {
            "text/plain": [
              "(15184, 227)"
            ]
          },
          "metadata": {},
          "execution_count": 5
        }
      ]
    },
    {
      "cell_type": "code",
      "source": [
        "df = df.drop_duplicates()\n",
        "df = df.drop(df[df['Rjb_km'] == -999 ].index)\n",
        "df = df.drop(df[df['Rjb_km'] > 1500 ].index)\n",
        "df = df.drop(df[df['Rjb_km'] == -999 ].index)\n",
        "# df = df.drop(df[df['HypD (km)'] <= 0 ].index)"
      ],
      "metadata": {
        "id": "_Iz-QCqU5u7G"
      },
      "execution_count": 6,
      "outputs": []
    },
    {
      "cell_type": "code",
      "source": [
        "df.head()"
      ],
      "metadata": {
        "colab": {
          "base_uri": "https://localhost:8080/",
          "height": 290
        },
        "id": "oxdogwBD5xwm",
        "outputId": "2b9210de-5483-4311-c06e-aec53fd7c375"
      },
      "execution_count": 7,
      "outputs": [
        {
          "output_type": "execute_result",
          "data": {
            "text/plain": [
              "   NGAsubRSN DatabaseRegion  NGAsubEQID  NGAsubSSN      Earthquake_Name  YEAR  \\\n",
              "0    1000002         Alaska     1000001    1000002  Aleutian_Isl-Alaska  2014   \n",
              "1    1000008         Alaska     1000001    1000008  Aleutian_Isl-Alaska  2014   \n",
              "2    1000040         Alaska     1000003    1000008              3316471  2011   \n",
              "3    1000056         Alaska     1000004    1000008              2587660  2007   \n",
              "4    1000069         Alaska     1000005    1000005              4224881  2013   \n",
              "\n",
              "   MODY  HRMN  Earthquake_Magnitude  Hypocenter_Latitude_deg  ...  T8pt500S  \\\n",
              "0   623  2053                  7.96                  51.6928  ...  0.000415   \n",
              "1   623  2053                  7.96                  51.6928  ...  0.000164   \n",
              "2   624   309                  7.28                  51.9805  ...  0.000590   \n",
              "3  1219   930                  7.21                  51.3510  ...  0.000124   \n",
              "4   830  1625                  7.00                  51.6230  ...  0.000054   \n",
              "\n",
              "   T9pt000S  T9pt500S  T10pt000S  T11pt000S  T12pt000S  T13pt000S  T14pt000S  \\\n",
              "0  0.000395  0.000405   0.000390   0.000336   0.000332   0.000263   0.000215   \n",
              "1  0.000193  0.000212   0.000196   0.000187   0.000199   0.000218   0.000237   \n",
              "2  0.000511  0.000469   0.000413   0.000460   0.000355   0.000286   0.000223   \n",
              "3  0.000104  0.000092   0.000093   0.000124   0.000125   0.000148   0.000138   \n",
              "4  0.000049  0.000040   0.000033   0.000030   0.000037   0.000039   0.000045   \n",
              "\n",
              "   T15pt000S  T20pt000S  \n",
              "0   0.000187   0.000119  \n",
              "1   0.000216   0.000084  \n",
              "2   0.000158   0.000070  \n",
              "3   0.000164   0.000172  \n",
              "4   0.000049   0.000041  \n",
              "\n",
              "[5 rows x 227 columns]"
            ],
            "text/html": [
              "\n",
              "  <div id=\"df-85a768bf-4d35-4b2c-ae38-d7a1ffcfe935\" class=\"colab-df-container\">\n",
              "    <div>\n",
              "<style scoped>\n",
              "    .dataframe tbody tr th:only-of-type {\n",
              "        vertical-align: middle;\n",
              "    }\n",
              "\n",
              "    .dataframe tbody tr th {\n",
              "        vertical-align: top;\n",
              "    }\n",
              "\n",
              "    .dataframe thead th {\n",
              "        text-align: right;\n",
              "    }\n",
              "</style>\n",
              "<table border=\"1\" class=\"dataframe\">\n",
              "  <thead>\n",
              "    <tr style=\"text-align: right;\">\n",
              "      <th></th>\n",
              "      <th>NGAsubRSN</th>\n",
              "      <th>DatabaseRegion</th>\n",
              "      <th>NGAsubEQID</th>\n",
              "      <th>NGAsubSSN</th>\n",
              "      <th>Earthquake_Name</th>\n",
              "      <th>YEAR</th>\n",
              "      <th>MODY</th>\n",
              "      <th>HRMN</th>\n",
              "      <th>Earthquake_Magnitude</th>\n",
              "      <th>Hypocenter_Latitude_deg</th>\n",
              "      <th>...</th>\n",
              "      <th>T8pt500S</th>\n",
              "      <th>T9pt000S</th>\n",
              "      <th>T9pt500S</th>\n",
              "      <th>T10pt000S</th>\n",
              "      <th>T11pt000S</th>\n",
              "      <th>T12pt000S</th>\n",
              "      <th>T13pt000S</th>\n",
              "      <th>T14pt000S</th>\n",
              "      <th>T15pt000S</th>\n",
              "      <th>T20pt000S</th>\n",
              "    </tr>\n",
              "  </thead>\n",
              "  <tbody>\n",
              "    <tr>\n",
              "      <th>0</th>\n",
              "      <td>1000002</td>\n",
              "      <td>Alaska</td>\n",
              "      <td>1000001</td>\n",
              "      <td>1000002</td>\n",
              "      <td>Aleutian_Isl-Alaska</td>\n",
              "      <td>2014</td>\n",
              "      <td>623</td>\n",
              "      <td>2053</td>\n",
              "      <td>7.96</td>\n",
              "      <td>51.6928</td>\n",
              "      <td>...</td>\n",
              "      <td>0.000415</td>\n",
              "      <td>0.000395</td>\n",
              "      <td>0.000405</td>\n",
              "      <td>0.000390</td>\n",
              "      <td>0.000336</td>\n",
              "      <td>0.000332</td>\n",
              "      <td>0.000263</td>\n",
              "      <td>0.000215</td>\n",
              "      <td>0.000187</td>\n",
              "      <td>0.000119</td>\n",
              "    </tr>\n",
              "    <tr>\n",
              "      <th>1</th>\n",
              "      <td>1000008</td>\n",
              "      <td>Alaska</td>\n",
              "      <td>1000001</td>\n",
              "      <td>1000008</td>\n",
              "      <td>Aleutian_Isl-Alaska</td>\n",
              "      <td>2014</td>\n",
              "      <td>623</td>\n",
              "      <td>2053</td>\n",
              "      <td>7.96</td>\n",
              "      <td>51.6928</td>\n",
              "      <td>...</td>\n",
              "      <td>0.000164</td>\n",
              "      <td>0.000193</td>\n",
              "      <td>0.000212</td>\n",
              "      <td>0.000196</td>\n",
              "      <td>0.000187</td>\n",
              "      <td>0.000199</td>\n",
              "      <td>0.000218</td>\n",
              "      <td>0.000237</td>\n",
              "      <td>0.000216</td>\n",
              "      <td>0.000084</td>\n",
              "    </tr>\n",
              "    <tr>\n",
              "      <th>2</th>\n",
              "      <td>1000040</td>\n",
              "      <td>Alaska</td>\n",
              "      <td>1000003</td>\n",
              "      <td>1000008</td>\n",
              "      <td>3316471</td>\n",
              "      <td>2011</td>\n",
              "      <td>624</td>\n",
              "      <td>309</td>\n",
              "      <td>7.28</td>\n",
              "      <td>51.9805</td>\n",
              "      <td>...</td>\n",
              "      <td>0.000590</td>\n",
              "      <td>0.000511</td>\n",
              "      <td>0.000469</td>\n",
              "      <td>0.000413</td>\n",
              "      <td>0.000460</td>\n",
              "      <td>0.000355</td>\n",
              "      <td>0.000286</td>\n",
              "      <td>0.000223</td>\n",
              "      <td>0.000158</td>\n",
              "      <td>0.000070</td>\n",
              "    </tr>\n",
              "    <tr>\n",
              "      <th>3</th>\n",
              "      <td>1000056</td>\n",
              "      <td>Alaska</td>\n",
              "      <td>1000004</td>\n",
              "      <td>1000008</td>\n",
              "      <td>2587660</td>\n",
              "      <td>2007</td>\n",
              "      <td>1219</td>\n",
              "      <td>930</td>\n",
              "      <td>7.21</td>\n",
              "      <td>51.3510</td>\n",
              "      <td>...</td>\n",
              "      <td>0.000124</td>\n",
              "      <td>0.000104</td>\n",
              "      <td>0.000092</td>\n",
              "      <td>0.000093</td>\n",
              "      <td>0.000124</td>\n",
              "      <td>0.000125</td>\n",
              "      <td>0.000148</td>\n",
              "      <td>0.000138</td>\n",
              "      <td>0.000164</td>\n",
              "      <td>0.000172</td>\n",
              "    </tr>\n",
              "    <tr>\n",
              "      <th>4</th>\n",
              "      <td>1000069</td>\n",
              "      <td>Alaska</td>\n",
              "      <td>1000005</td>\n",
              "      <td>1000005</td>\n",
              "      <td>4224881</td>\n",
              "      <td>2013</td>\n",
              "      <td>830</td>\n",
              "      <td>1625</td>\n",
              "      <td>7.00</td>\n",
              "      <td>51.6230</td>\n",
              "      <td>...</td>\n",
              "      <td>0.000054</td>\n",
              "      <td>0.000049</td>\n",
              "      <td>0.000040</td>\n",
              "      <td>0.000033</td>\n",
              "      <td>0.000030</td>\n",
              "      <td>0.000037</td>\n",
              "      <td>0.000039</td>\n",
              "      <td>0.000045</td>\n",
              "      <td>0.000049</td>\n",
              "      <td>0.000041</td>\n",
              "    </tr>\n",
              "  </tbody>\n",
              "</table>\n",
              "<p>5 rows × 227 columns</p>\n",
              "</div>\n",
              "    <div class=\"colab-df-buttons\">\n",
              "\n",
              "  <div class=\"colab-df-container\">\n",
              "    <button class=\"colab-df-convert\" onclick=\"convertToInteractive('df-85a768bf-4d35-4b2c-ae38-d7a1ffcfe935')\"\n",
              "            title=\"Convert this dataframe to an interactive table.\"\n",
              "            style=\"display:none;\">\n",
              "\n",
              "  <svg xmlns=\"http://www.w3.org/2000/svg\" height=\"24px\" viewBox=\"0 -960 960 960\">\n",
              "    <path d=\"M120-120v-720h720v720H120Zm60-500h600v-160H180v160Zm220 220h160v-160H400v160Zm0 220h160v-160H400v160ZM180-400h160v-160H180v160Zm440 0h160v-160H620v160ZM180-180h160v-160H180v160Zm440 0h160v-160H620v160Z\"/>\n",
              "  </svg>\n",
              "    </button>\n",
              "\n",
              "  <style>\n",
              "    .colab-df-container {\n",
              "      display:flex;\n",
              "      gap: 12px;\n",
              "    }\n",
              "\n",
              "    .colab-df-convert {\n",
              "      background-color: #E8F0FE;\n",
              "      border: none;\n",
              "      border-radius: 50%;\n",
              "      cursor: pointer;\n",
              "      display: none;\n",
              "      fill: #1967D2;\n",
              "      height: 32px;\n",
              "      padding: 0 0 0 0;\n",
              "      width: 32px;\n",
              "    }\n",
              "\n",
              "    .colab-df-convert:hover {\n",
              "      background-color: #E2EBFA;\n",
              "      box-shadow: 0px 1px 2px rgba(60, 64, 67, 0.3), 0px 1px 3px 1px rgba(60, 64, 67, 0.15);\n",
              "      fill: #174EA6;\n",
              "    }\n",
              "\n",
              "    .colab-df-buttons div {\n",
              "      margin-bottom: 4px;\n",
              "    }\n",
              "\n",
              "    [theme=dark] .colab-df-convert {\n",
              "      background-color: #3B4455;\n",
              "      fill: #D2E3FC;\n",
              "    }\n",
              "\n",
              "    [theme=dark] .colab-df-convert:hover {\n",
              "      background-color: #434B5C;\n",
              "      box-shadow: 0px 1px 3px 1px rgba(0, 0, 0, 0.15);\n",
              "      filter: drop-shadow(0px 1px 2px rgba(0, 0, 0, 0.3));\n",
              "      fill: #FFFFFF;\n",
              "    }\n",
              "  </style>\n",
              "\n",
              "    <script>\n",
              "      const buttonEl =\n",
              "        document.querySelector('#df-85a768bf-4d35-4b2c-ae38-d7a1ffcfe935 button.colab-df-convert');\n",
              "      buttonEl.style.display =\n",
              "        google.colab.kernel.accessAllowed ? 'block' : 'none';\n",
              "\n",
              "      async function convertToInteractive(key) {\n",
              "        const element = document.querySelector('#df-85a768bf-4d35-4b2c-ae38-d7a1ffcfe935');\n",
              "        const dataTable =\n",
              "          await google.colab.kernel.invokeFunction('convertToInteractive',\n",
              "                                                    [key], {});\n",
              "        if (!dataTable) return;\n",
              "\n",
              "        const docLinkHtml = 'Like what you see? Visit the ' +\n",
              "          '<a target=\"_blank\" href=https://colab.research.google.com/notebooks/data_table.ipynb>data table notebook</a>'\n",
              "          + ' to learn more about interactive tables.';\n",
              "        element.innerHTML = '';\n",
              "        dataTable['output_type'] = 'display_data';\n",
              "        await google.colab.output.renderOutput(dataTable, element);\n",
              "        const docLink = document.createElement('div');\n",
              "        docLink.innerHTML = docLinkHtml;\n",
              "        element.appendChild(docLink);\n",
              "      }\n",
              "    </script>\n",
              "  </div>\n",
              "\n",
              "\n",
              "<div id=\"df-ffe07229-ce53-43e5-855b-97006feae197\">\n",
              "  <button class=\"colab-df-quickchart\" onclick=\"quickchart('df-ffe07229-ce53-43e5-855b-97006feae197')\"\n",
              "            title=\"Suggest charts\"\n",
              "            style=\"display:none;\">\n",
              "\n",
              "<svg xmlns=\"http://www.w3.org/2000/svg\" height=\"24px\"viewBox=\"0 0 24 24\"\n",
              "     width=\"24px\">\n",
              "    <g>\n",
              "        <path d=\"M19 3H5c-1.1 0-2 .9-2 2v14c0 1.1.9 2 2 2h14c1.1 0 2-.9 2-2V5c0-1.1-.9-2-2-2zM9 17H7v-7h2v7zm4 0h-2V7h2v10zm4 0h-2v-4h2v4z\"/>\n",
              "    </g>\n",
              "</svg>\n",
              "  </button>\n",
              "\n",
              "<style>\n",
              "  .colab-df-quickchart {\n",
              "      --bg-color: #E8F0FE;\n",
              "      --fill-color: #1967D2;\n",
              "      --hover-bg-color: #E2EBFA;\n",
              "      --hover-fill-color: #174EA6;\n",
              "      --disabled-fill-color: #AAA;\n",
              "      --disabled-bg-color: #DDD;\n",
              "  }\n",
              "\n",
              "  [theme=dark] .colab-df-quickchart {\n",
              "      --bg-color: #3B4455;\n",
              "      --fill-color: #D2E3FC;\n",
              "      --hover-bg-color: #434B5C;\n",
              "      --hover-fill-color: #FFFFFF;\n",
              "      --disabled-bg-color: #3B4455;\n",
              "      --disabled-fill-color: #666;\n",
              "  }\n",
              "\n",
              "  .colab-df-quickchart {\n",
              "    background-color: var(--bg-color);\n",
              "    border: none;\n",
              "    border-radius: 50%;\n",
              "    cursor: pointer;\n",
              "    display: none;\n",
              "    fill: var(--fill-color);\n",
              "    height: 32px;\n",
              "    padding: 0;\n",
              "    width: 32px;\n",
              "  }\n",
              "\n",
              "  .colab-df-quickchart:hover {\n",
              "    background-color: var(--hover-bg-color);\n",
              "    box-shadow: 0 1px 2px rgba(60, 64, 67, 0.3), 0 1px 3px 1px rgba(60, 64, 67, 0.15);\n",
              "    fill: var(--button-hover-fill-color);\n",
              "  }\n",
              "\n",
              "  .colab-df-quickchart-complete:disabled,\n",
              "  .colab-df-quickchart-complete:disabled:hover {\n",
              "    background-color: var(--disabled-bg-color);\n",
              "    fill: var(--disabled-fill-color);\n",
              "    box-shadow: none;\n",
              "  }\n",
              "\n",
              "  .colab-df-spinner {\n",
              "    border: 2px solid var(--fill-color);\n",
              "    border-color: transparent;\n",
              "    border-bottom-color: var(--fill-color);\n",
              "    animation:\n",
              "      spin 1s steps(1) infinite;\n",
              "  }\n",
              "\n",
              "  @keyframes spin {\n",
              "    0% {\n",
              "      border-color: transparent;\n",
              "      border-bottom-color: var(--fill-color);\n",
              "      border-left-color: var(--fill-color);\n",
              "    }\n",
              "    20% {\n",
              "      border-color: transparent;\n",
              "      border-left-color: var(--fill-color);\n",
              "      border-top-color: var(--fill-color);\n",
              "    }\n",
              "    30% {\n",
              "      border-color: transparent;\n",
              "      border-left-color: var(--fill-color);\n",
              "      border-top-color: var(--fill-color);\n",
              "      border-right-color: var(--fill-color);\n",
              "    }\n",
              "    40% {\n",
              "      border-color: transparent;\n",
              "      border-right-color: var(--fill-color);\n",
              "      border-top-color: var(--fill-color);\n",
              "    }\n",
              "    60% {\n",
              "      border-color: transparent;\n",
              "      border-right-color: var(--fill-color);\n",
              "    }\n",
              "    80% {\n",
              "      border-color: transparent;\n",
              "      border-right-color: var(--fill-color);\n",
              "      border-bottom-color: var(--fill-color);\n",
              "    }\n",
              "    90% {\n",
              "      border-color: transparent;\n",
              "      border-bottom-color: var(--fill-color);\n",
              "    }\n",
              "  }\n",
              "</style>\n",
              "\n",
              "  <script>\n",
              "    async function quickchart(key) {\n",
              "      const quickchartButtonEl =\n",
              "        document.querySelector('#' + key + ' button');\n",
              "      quickchartButtonEl.disabled = true;  // To prevent multiple clicks.\n",
              "      quickchartButtonEl.classList.add('colab-df-spinner');\n",
              "      try {\n",
              "        const charts = await google.colab.kernel.invokeFunction(\n",
              "            'suggestCharts', [key], {});\n",
              "      } catch (error) {\n",
              "        console.error('Error during call to suggestCharts:', error);\n",
              "      }\n",
              "      quickchartButtonEl.classList.remove('colab-df-spinner');\n",
              "      quickchartButtonEl.classList.add('colab-df-quickchart-complete');\n",
              "    }\n",
              "    (() => {\n",
              "      let quickchartButtonEl =\n",
              "        document.querySelector('#df-ffe07229-ce53-43e5-855b-97006feae197 button');\n",
              "      quickchartButtonEl.style.display =\n",
              "        google.colab.kernel.accessAllowed ? 'block' : 'none';\n",
              "    })();\n",
              "  </script>\n",
              "</div>\n",
              "\n",
              "    </div>\n",
              "  </div>\n"
            ],
            "application/vnd.google.colaboratory.intrinsic+json": {
              "type": "dataframe",
              "variable_name": "df"
            }
          },
          "metadata": {},
          "execution_count": 7
        }
      ]
    },
    {
      "cell_type": "code",
      "source": [
        "df['log Rjb'] = np.log10(df['Rjb_km'])"
      ],
      "metadata": {
        "id": "1-wDj28F7Cfa"
      },
      "execution_count": 8,
      "outputs": []
    },
    {
      "cell_type": "code",
      "source": [
        "d = {}\n",
        "i = 1\n",
        "for row in df['DatabaseRegion']:\n",
        "  if row not in d:\n",
        "    d[row] = i\n",
        "    i += 1"
      ],
      "metadata": {
        "id": "jx7nWFqV9VOE"
      },
      "execution_count": 9,
      "outputs": []
    },
    {
      "cell_type": "code",
      "source": [
        "d"
      ],
      "metadata": {
        "colab": {
          "base_uri": "https://localhost:8080/"
        },
        "id": "_ItQAWEv9tH9",
        "outputId": "efe776e8-a515-4ee4-b58f-1bb3ef7a38b2"
      },
      "execution_count": 10,
      "outputs": [
        {
          "output_type": "execute_result",
          "data": {
            "text/plain": [
              "{'Alaska': 1,\n",
              " 'Cascadia': 2,\n",
              " 'CentralAmerica&Mexico': 3,\n",
              " 'Japan': 4,\n",
              " 'SouthAmerica': 5,\n",
              " 'Taiwan': 6}"
            ]
          },
          "metadata": {},
          "execution_count": 10
        }
      ]
    },
    {
      "cell_type": "code",
      "source": [
        "df['regionFlag'] = df['DatabaseRegion'].map(d)"
      ],
      "metadata": {
        "id": "O37l0Q1a9vVd"
      },
      "execution_count": 11,
      "outputs": []
    },
    {
      "cell_type": "code",
      "source": [
        "df.columns"
      ],
      "metadata": {
        "colab": {
          "base_uri": "https://localhost:8080/"
        },
        "id": "l66w6D1S7NaM",
        "outputId": "d6a8c585-e7a3-4c3a-b424-ccb323ba0477"
      },
      "execution_count": 12,
      "outputs": [
        {
          "output_type": "execute_result",
          "data": {
            "text/plain": [
              "Index(['NGAsubRSN', 'DatabaseRegion', 'NGAsubEQID', 'NGAsubSSN',\n",
              "       'Earthquake_Name', 'YEAR', 'MODY', 'HRMN', 'Earthquake_Magnitude',\n",
              "       'Hypocenter_Latitude_deg',\n",
              "       ...\n",
              "       'T9pt500S', 'T10pt000S', 'T11pt000S', 'T12pt000S', 'T13pt000S',\n",
              "       'T14pt000S', 'T15pt000S', 'T20pt000S', 'log Rjb', 'regionFlag'],\n",
              "      dtype='object', length=229)"
            ]
          },
          "metadata": {},
          "execution_count": 12
        }
      ]
    },
    {
      "cell_type": "code",
      "source": [
        "import re\n",
        "\n",
        "X = df[['Earthquake_Magnitude','Rjb_km','log Rjb','Vs30_Selected_for_Analysis_m_s','regionFlag','Intra_Inter_Flag']]\n",
        "# X = df[['Earthquake_Magnitude','Rjb_km','log Rjb','Vs30_Selected_for_Analysis_m_s','regionFlag']]\n",
        "\n",
        "\n",
        "pattern = re.compile(r'^T(\\d+)pt(\\d{3})S$')\n",
        "\n",
        "matching_columns = []\n",
        "t = []\n",
        "\n",
        "for col in df.columns:\n",
        "    match = pattern.match(col)\n",
        "    if match:\n",
        "\n",
        "        minutes = int(match.group(1))\n",
        "        seconds = int(match.group(2)) / 1000.0\n",
        "\n",
        "        total_seconds = minutes + seconds\n",
        "\n",
        "\n",
        "        if 0.01 <= total_seconds <= 20.000:\n",
        "            matching_columns.append(col)\n",
        "            t.append(total_seconds)\n",
        "y = df[matching_columns]\n",
        "\n",
        "y = np.log10(y.replace(0, np.nan) + 1e-10)"
      ],
      "metadata": {
        "id": "mnx-VQ1X7OYF"
      },
      "execution_count": 14,
      "outputs": []
    },
    {
      "cell_type": "code",
      "source": [
        "t"
      ],
      "metadata": {
        "colab": {
          "base_uri": "https://localhost:8080/"
        },
        "id": "Y6vmM9-XEe3g",
        "outputId": "a62e0fd0-6d8a-430c-d4f8-8b5b649fdc14"
      },
      "execution_count": 15,
      "outputs": [
        {
          "output_type": "execute_result",
          "data": {
            "text/plain": [
              "[0.01,\n",
              " 0.02,\n",
              " 0.022,\n",
              " 0.025,\n",
              " 0.029,\n",
              " 0.03,\n",
              " 0.032,\n",
              " 0.035,\n",
              " 0.036,\n",
              " 0.04,\n",
              " 0.042,\n",
              " 0.044,\n",
              " 0.045,\n",
              " 0.046,\n",
              " 0.048,\n",
              " 0.05,\n",
              " 0.055,\n",
              " 0.06,\n",
              " 0.065,\n",
              " 0.067,\n",
              " 0.07,\n",
              " 0.075,\n",
              " 0.08,\n",
              " 0.085,\n",
              " 0.09,\n",
              " 0.095,\n",
              " 0.1,\n",
              " 0.11,\n",
              " 0.12,\n",
              " 0.13,\n",
              " 0.133,\n",
              " 0.14,\n",
              " 0.15,\n",
              " 0.16,\n",
              " 0.17,\n",
              " 0.18,\n",
              " 0.19,\n",
              " 0.2,\n",
              " 0.22,\n",
              " 0.24,\n",
              " 0.25,\n",
              " 0.26,\n",
              " 0.28,\n",
              " 0.29,\n",
              " 0.3,\n",
              " 0.32,\n",
              " 0.34,\n",
              " 0.35,\n",
              " 0.36,\n",
              " 0.38,\n",
              " 0.4,\n",
              " 0.42,\n",
              " 0.44,\n",
              " 0.45,\n",
              " 0.46,\n",
              " 0.48,\n",
              " 0.5,\n",
              " 0.55,\n",
              " 0.6,\n",
              " 0.65,\n",
              " 0.667,\n",
              " 0.7,\n",
              " 0.75,\n",
              " 0.8,\n",
              " 0.85,\n",
              " 0.9,\n",
              " 0.95,\n",
              " 1.0,\n",
              " 1.1,\n",
              " 1.2,\n",
              " 1.3,\n",
              " 1.4,\n",
              " 1.5,\n",
              " 1.6,\n",
              " 1.7,\n",
              " 1.8,\n",
              " 1.9,\n",
              " 2.0,\n",
              " 2.2,\n",
              " 2.4,\n",
              " 2.5,\n",
              " 2.6,\n",
              " 2.8,\n",
              " 3.0,\n",
              " 3.2,\n",
              " 3.4,\n",
              " 3.5,\n",
              " 3.6,\n",
              " 3.8,\n",
              " 4.0,\n",
              " 4.2,\n",
              " 4.4,\n",
              " 4.6,\n",
              " 4.8,\n",
              " 5.0,\n",
              " 5.5,\n",
              " 6.0,\n",
              " 6.5,\n",
              " 7.0,\n",
              " 7.5,\n",
              " 8.0,\n",
              " 8.5,\n",
              " 9.0,\n",
              " 9.5,\n",
              " 10.0,\n",
              " 11.0,\n",
              " 12.0,\n",
              " 13.0,\n",
              " 14.0,\n",
              " 15.0,\n",
              " 20.0]"
            ]
          },
          "metadata": {},
          "execution_count": 15
        }
      ]
    },
    {
      "cell_type": "code",
      "source": [
        "y.shape"
      ],
      "metadata": {
        "colab": {
          "base_uri": "https://localhost:8080/"
        },
        "id": "EO1CJ-WpBsqj",
        "outputId": "b9fd5d35-fd60-4aad-a0de-4a40b38c1f21"
      },
      "execution_count": 16,
      "outputs": [
        {
          "output_type": "execute_result",
          "data": {
            "text/plain": [
              "(15184, 111)"
            ]
          },
          "metadata": {},
          "execution_count": 16
        }
      ]
    },
    {
      "cell_type": "code",
      "source": [
        "X.shape"
      ],
      "metadata": {
        "colab": {
          "base_uri": "https://localhost:8080/"
        },
        "id": "Hd8185B28xWZ",
        "outputId": "12229de0-7491-4c27-ecf6-cb3995e95337"
      },
      "execution_count": 17,
      "outputs": [
        {
          "output_type": "execute_result",
          "data": {
            "text/plain": [
              "(15184, 6)"
            ]
          },
          "metadata": {},
          "execution_count": 17
        }
      ]
    },
    {
      "cell_type": "code",
      "source": [
        "from sklearn.model_selection import train_test_split\n",
        "import sklearn as sk"
      ],
      "metadata": {
        "id": "q-S1aj9W-HqE"
      },
      "execution_count": 18,
      "outputs": []
    },
    {
      "cell_type": "code",
      "source": [
        "import seaborn as sns\n",
        "\n",
        "sns.heatmap(df[['Earthquake_Magnitude','Rjb_km','log Rjb','Vs30_Selected_for_Analysis_m_s','regionFlag','Intra_Inter_Flag']].corr(), annot = True)\n",
        "# sns.heatmap(df[['Earthquake_Magnitude','Rjb_km','log Rjb','Vs30_Selected_for_Analysis_m_s','regionFlag']].corr(), annot = True)"
      ],
      "metadata": {
        "colab": {
          "base_uri": "https://localhost:8080/",
          "height": 665
        },
        "id": "kRX-cVO--3b-",
        "outputId": "a174df46-4158-4968-ba22-5d77769c901c"
      },
      "execution_count": 19,
      "outputs": [
        {
          "output_type": "execute_result",
          "data": {
            "text/plain": [
              "<Axes: >"
            ]
          },
          "metadata": {},
          "execution_count": 19
        },
        {
          "output_type": "display_data",
          "data": {
            "text/plain": [
              "<Figure size 640x480 with 2 Axes>"
            ],
            "image/png": "[encoded data removed]"
          },
          "metadata": {}
        }
      ]
    },
    {
      "cell_type": "code",
      "source": [
        "n_samples, n_feature = X.shape\n",
        "n_s, n_labels = y.shape\n",
        "\n",
        "print(n_samples, n_feature)\n",
        "print(n_s, n_labels)\n",
        "\n",
        "batch_size = 32\n",
        "\n",
        "\n",
        "X_train, X_test, y_train, y_test = train_test_split(X,y, test_size = 0.15, random_state=51)\n",
        "\n",
        "X_train = torch.tensor(X_train.astype(np.float32).values)\n",
        "X_test = torch.tensor(X_test.astype(np.float32).values)\n",
        "y_train = torch.tensor(y_train.astype(np.float32).values)\n",
        "y_test = torch.tensor(y_test.astype(np.float32).values)\n",
        "\n",
        "train_dataset = TensorDataset(X_train, y_train)\n",
        "test_dataset = TensorDataset(X_test, y_test)\n",
        "train_loader = DataLoader(train_dataset, batch_size = batch_size, shuffle = True)\n",
        "test_loader = DataLoader(test_dataset, batch_size = batch_size, shuffle = True)"
      ],
      "metadata": {
        "colab": {
          "base_uri": "https://localhost:8080/"
        },
        "id": "wKl46DVy_ABb",
        "outputId": "1274cf8c-5002-4b27-bbc4-ea48e9b9334c"
      },
      "execution_count": 20,
      "outputs": [
        {
          "output_type": "stream",
          "name": "stdout",
          "text": [
            "15184 6\n",
            "15184 111\n"
          ]
        }
      ]
    },
    {
      "cell_type": "markdown",
      "source": [
        "**ANN Model**"
      ],
      "metadata": {
        "id": "deUqZtw0_PoR"
      }
    },
    {
      "cell_type": "code",
      "source": [
        "class ANN(nn.Module):\n",
        "  def __init__(self,n_input_featurs, hidden_layer, n_output_labels):\n",
        "    super(ANN, self).__init__()\n",
        "    self.linear1 = nn.Linear(n_input_featurs, hidden_layer)\n",
        "    self.linear2 = nn.Linear(hidden_layer, n_output_labels)\n",
        "\n",
        "  def forward(self, x):\n",
        "    x = F.leaky_relu(self.linear1(x), negative_slope=0.1)\n",
        "    x = self.linear2(x)\n",
        "\n",
        "    return x"
      ],
      "metadata": {
        "id": "xhW-DJ46_OG1"
      },
      "execution_count": 21,
      "outputs": []
    },
    {
      "cell_type": "markdown",
      "source": [
        " **CVAE Model**"
      ],
      "metadata": {
        "id": "06YN6ZZI_XJR"
      }
    },
    {
      "cell_type": "code",
      "source": [
        "class Encoder(nn.Module):\n",
        "  def __init__(self, input_dim, latent_dim):\n",
        "    super(Encoder, self).__init__()\n",
        "    self.l1 = nn.Linear(input_dim, 32)\n",
        "    self.l11 = nn.Linear(32, 8)\n",
        "    # dividing the data into probabilistic distribution\n",
        "    self.l2_mean = nn.Linear(8, latent_dim)\n",
        "    self.l2_logvar = nn.Linear(8, latent_dim)\n",
        "\n",
        "  def forward(self, x):\n",
        "    x = F.leaky_relu(self.l1(x), negative_slope=0.1)\n",
        "    x = F.leaky_relu(self.l11(x), negative_slope=0.1)\n",
        "    mean = self.l2_mean(x)\n",
        "    logvar = self.l2_logvar(x)\n",
        "\n",
        "    return mean, logvar\n"
      ],
      "metadata": {
        "id": "6iiUaSYg_WYx"
      },
      "execution_count": 23,
      "outputs": []
    },
    {
      "cell_type": "code",
      "source": [
        "class Decoder(nn.Module):\n",
        "  def __init__(self, latent_dim, output_dim):\n",
        "    super(Decoder, self).__init__()\n",
        "    self.l1 = nn.Linear(latent_dim, 8)\n",
        "    self.l11 = nn.Linear(8, 32)\n",
        "    self.l2 = nn.Linear(32, output_dim)\n",
        "\n",
        "  def forward(self, x):\n",
        "    x = F.leaky_relu(self.l1(x), negative_slope=0.1)\n",
        "    x = F.leaky_relu(self.l11(x), negative_slope=0.1)\n",
        "    x_recon = self.l2(x)\n",
        "\n",
        "    return x_recon\n"
      ],
      "metadata": {
        "id": "78BsDIb8_d3J"
      },
      "execution_count": 24,
      "outputs": []
    },
    {
      "cell_type": "code",
      "source": [
        "class VAE(nn.Module):\n",
        "  def __init__(self, input_dim, latent_dim, output_dim):\n",
        "    super(VAE, self).__init__()\n",
        "    self.encoder = Encoder(input_dim, latent_dim)\n",
        "    self.decoder = Decoder(latent_dim, output_dim)\n",
        "\n",
        "  def forward(self, x):\n",
        "    mean, logvar = self.encoder(x)\n",
        "    std = torch.exp(0.5 * logvar)\n",
        "    eps = torch.randn_like(std)   # this takes out a random numbers to create a tensor with mean = 0 and std dev = 1\n",
        "    z = mean + eps * std\n",
        "    x_recon = self.decoder(z)    # this is the reconstrucrted Response Spectra (RS)\n",
        "\n",
        "    return x_recon, mean, logvar"
      ],
      "metadata": {
        "id": "J6YRChop_gMF"
      },
      "execution_count": 25,
      "outputs": []
    },
    {
      "cell_type": "code",
      "source": [
        "def VAE_loss(x_recon, x, mean, logvar):\n",
        "  recon_loss = F.mse_loss(x_recon, x, reduction='sum')   # MSE loss between reconstructed RS and actual RS\n",
        "  kl_d = -0.5 * torch.sum(1 + logvar - mean.pow(2) - logvar.exp())   # this is the KL Divergence Loss function\n",
        "  return recon_loss + kl_d   # total Loss"
      ],
      "metadata": {
        "id": "IfhfGUuM_iB2"
      },
      "execution_count": 26,
      "outputs": []
    },
    {
      "cell_type": "markdown",
      "source": [
        "-------------------------------------------------------------------------------------------------------------------------------------------------------"
      ],
      "metadata": {
        "id": "bimexhD6_vFB"
      }
    },
    {
      "cell_type": "code",
      "source": [
        "input_dim_ANN =  n_feature  # 5 parameters on which the RS is to be predicted\n",
        "output_dim = n_labels  # output contains log PSA for 111 time stamps\n",
        "\n",
        "model_ANN = ANN(input_dim_ANN, 10, output_dim)\n",
        "\n",
        "\n",
        "learning_rate1 = 0.001\n",
        "criterion = nn.MSELoss()\n",
        "optimizer1 = optim.AdamW(model_ANN.parameters(), lr = learning_rate1)"
      ],
      "metadata": {
        "id": "EOkmkbbb_j9H"
      },
      "execution_count": 27,
      "outputs": []
    },
    {
      "cell_type": "code",
      "source": [
        "n_epochs = 100\n",
        "\n",
        "for epoch in range(n_epochs):\n",
        "  for i, data in enumerate(train_loader):\n",
        "    input, output = data\n",
        "    y_pred = model_ANN(input)\n",
        "    loss = criterion(y_pred, output)\n",
        "\n",
        "    loss.backward()\n",
        "\n",
        "    optimizer1.step()\n",
        "    optimizer1.zero_grad()\n",
        "\n",
        "    if (i+1)%200 == 0:\n",
        "      print(f'epoch: {epoch+1}/{n_epochs}, step:{i+1}/{len(train_loader)} loss: {loss.item():.4f}')"
      ],
      "metadata": {
        "colab": {
          "base_uri": "https://localhost:8080/"
        },
        "id": "Wb2A48iLAAHE",
        "outputId": "58dfead3-c722-4f20-8660-3babd0fe67cb"
      },
      "execution_count": 28,
      "outputs": [
        {
          "output_type": "stream",
          "name": "stdout",
          "text": [
            "epoch: 1/100, step:200/404 loss: 36.6022\n",
            "epoch: 1/100, step:400/404 loss: 6.1012\n",
            "epoch: 2/100, step:200/404 loss: 1.5569\n",
            "epoch: 2/100, step:400/404 loss: 2.3245\n",
            "epoch: 3/100, step:200/404 loss: 0.5349\n",
            "epoch: 3/100, step:400/404 loss: 0.7227\n",
            "epoch: 4/100, step:200/404 loss: 0.5689\n",
            "epoch: 4/100, step:400/404 loss: 0.6728\n",
            "epoch: 5/100, step:200/404 loss: 0.7078\n",
            "epoch: 5/100, step:400/404 loss: 0.5080\n",
            "epoch: 6/100, step:200/404 loss: 0.6386\n",
            "epoch: 6/100, step:400/404 loss: 0.5010\n",
            "epoch: 7/100, step:200/404 loss: 0.4903\n",
            "epoch: 7/100, step:400/404 loss: 1.1062\n",
            "epoch: 8/100, step:200/404 loss: 0.5912\n",
            "epoch: 8/100, step:400/404 loss: 0.5494\n",
            "epoch: 9/100, step:200/404 loss: 0.8377\n",
            "epoch: 9/100, step:400/404 loss: 0.7154\n",
            "epoch: 10/100, step:200/404 loss: 0.9231\n",
            "epoch: 10/100, step:400/404 loss: 0.4193\n",
            "epoch: 11/100, step:200/404 loss: 0.4759\n",
            "epoch: 11/100, step:400/404 loss: 0.4935\n",
            "epoch: 12/100, step:200/404 loss: 0.5219\n",
            "epoch: 12/100, step:400/404 loss: 0.4910\n",
            "epoch: 13/100, step:200/404 loss: 0.5080\n",
            "epoch: 13/100, step:400/404 loss: 1.0426\n",
            "epoch: 14/100, step:200/404 loss: 0.5836\n",
            "epoch: 14/100, step:400/404 loss: 0.4312\n",
            "epoch: 15/100, step:200/404 loss: 0.5142\n",
            "epoch: 15/100, step:400/404 loss: 0.5606\n",
            "epoch: 16/100, step:200/404 loss: 0.3631\n",
            "epoch: 16/100, step:400/404 loss: 0.4438\n",
            "epoch: 17/100, step:200/404 loss: 0.5098\n",
            "epoch: 17/100, step:400/404 loss: 0.6238\n",
            "epoch: 18/100, step:200/404 loss: 0.3840\n",
            "epoch: 18/100, step:400/404 loss: 0.4503\n",
            "epoch: 19/100, step:200/404 loss: 0.4833\n",
            "epoch: 19/100, step:400/404 loss: 0.5566\n",
            "epoch: 20/100, step:200/404 loss: 0.5122\n",
            "epoch: 20/100, step:400/404 loss: 0.4924\n",
            "epoch: 21/100, step:200/404 loss: 0.5949\n",
            "epoch: 21/100, step:400/404 loss: 0.4206\n",
            "epoch: 22/100, step:200/404 loss: 0.3427\n",
            "epoch: 22/100, step:400/404 loss: 0.5516\n",
            "epoch: 23/100, step:200/404 loss: 0.3648\n",
            "epoch: 23/100, step:400/404 loss: 0.3411\n",
            "epoch: 24/100, step:200/404 loss: 0.2960\n",
            "epoch: 24/100, step:400/404 loss: 0.2838\n",
            "epoch: 25/100, step:200/404 loss: 0.3427\n",
            "epoch: 25/100, step:400/404 loss: 0.2808\n",
            "epoch: 26/100, step:200/404 loss: 0.3741\n",
            "epoch: 26/100, step:400/404 loss: 0.5207\n",
            "epoch: 27/100, step:200/404 loss: 0.4214\n",
            "epoch: 27/100, step:400/404 loss: 0.3189\n",
            "epoch: 28/100, step:200/404 loss: 0.4446\n",
            "epoch: 28/100, step:400/404 loss: 0.3206\n",
            "epoch: 29/100, step:200/404 loss: 0.3249\n",
            "epoch: 29/100, step:400/404 loss: 0.4361\n",
            "epoch: 30/100, step:200/404 loss: 0.2185\n",
            "epoch: 30/100, step:400/404 loss: 0.3907\n",
            "epoch: 31/100, step:200/404 loss: 0.3256\n",
            "epoch: 31/100, step:400/404 loss: 0.2598\n",
            "epoch: 32/100, step:200/404 loss: 0.3448\n",
            "epoch: 32/100, step:400/404 loss: 0.4488\n",
            "epoch: 33/100, step:200/404 loss: 0.1670\n",
            "epoch: 33/100, step:400/404 loss: 0.3182\n",
            "epoch: 34/100, step:200/404 loss: 0.2202\n",
            "epoch: 34/100, step:400/404 loss: 0.4060\n",
            "epoch: 35/100, step:200/404 loss: 0.2484\n",
            "epoch: 35/100, step:400/404 loss: 0.2694\n",
            "epoch: 36/100, step:200/404 loss: 0.2231\n",
            "epoch: 36/100, step:400/404 loss: 0.1882\n",
            "epoch: 37/100, step:200/404 loss: 0.2691\n",
            "epoch: 37/100, step:400/404 loss: 0.3234\n",
            "epoch: 38/100, step:200/404 loss: 0.1888\n",
            "epoch: 38/100, step:400/404 loss: 0.3949\n",
            "epoch: 39/100, step:200/404 loss: 0.2455\n",
            "epoch: 39/100, step:400/404 loss: 0.1965\n",
            "epoch: 40/100, step:200/404 loss: 0.4241\n",
            "epoch: 40/100, step:400/404 loss: 0.3118\n",
            "epoch: 41/100, step:200/404 loss: 0.1956\n",
            "epoch: 41/100, step:400/404 loss: 0.1448\n",
            "epoch: 42/100, step:200/404 loss: 0.1682\n",
            "epoch: 42/100, step:400/404 loss: 0.2431\n",
            "epoch: 43/100, step:200/404 loss: 0.2107\n",
            "epoch: 43/100, step:400/404 loss: 0.1594\n",
            "epoch: 44/100, step:200/404 loss: 0.2134\n",
            "epoch: 44/100, step:400/404 loss: 0.3680\n",
            "epoch: 45/100, step:200/404 loss: 0.1871\n",
            "epoch: 45/100, step:400/404 loss: 0.2278\n",
            "epoch: 46/100, step:200/404 loss: 0.1792\n",
            "epoch: 46/100, step:400/404 loss: 0.1888\n",
            "epoch: 47/100, step:200/404 loss: 0.1609\n",
            "epoch: 47/100, step:400/404 loss: 0.1757\n",
            "epoch: 48/100, step:200/404 loss: 0.2711\n",
            "epoch: 48/100, step:400/404 loss: 0.2336\n",
            "epoch: 49/100, step:200/404 loss: 0.2033\n",
            "epoch: 49/100, step:400/404 loss: 0.1852\n",
            "epoch: 50/100, step:200/404 loss: 0.1862\n",
            "epoch: 50/100, step:400/404 loss: 0.2647\n",
            "epoch: 51/100, step:200/404 loss: 0.1983\n",
            "epoch: 51/100, step:400/404 loss: 0.3608\n",
            "epoch: 52/100, step:200/404 loss: 0.2244\n",
            "epoch: 52/100, step:400/404 loss: 0.1554\n",
            "epoch: 53/100, step:200/404 loss: 0.1579\n",
            "epoch: 53/100, step:400/404 loss: 0.2469\n",
            "epoch: 54/100, step:200/404 loss: 0.2229\n",
            "epoch: 54/100, step:400/404 loss: 0.1684\n",
            "epoch: 55/100, step:200/404 loss: 0.2011\n",
            "epoch: 55/100, step:400/404 loss: 0.2676\n",
            "epoch: 56/100, step:200/404 loss: 0.4613\n",
            "epoch: 56/100, step:400/404 loss: 0.2239\n",
            "epoch: 57/100, step:200/404 loss: 0.2622\n",
            "epoch: 57/100, step:400/404 loss: 0.2573\n",
            "epoch: 58/100, step:200/404 loss: 0.2526\n",
            "epoch: 58/100, step:400/404 loss: 0.2768\n",
            "epoch: 59/100, step:200/404 loss: 0.2811\n",
            "epoch: 59/100, step:400/404 loss: 0.1538\n",
            "epoch: 60/100, step:200/404 loss: 0.2065\n",
            "epoch: 60/100, step:400/404 loss: 0.1913\n",
            "epoch: 61/100, step:200/404 loss: 0.1723\n",
            "epoch: 61/100, step:400/404 loss: 0.2818\n",
            "epoch: 62/100, step:200/404 loss: 0.1817\n",
            "epoch: 62/100, step:400/404 loss: 0.1433\n",
            "epoch: 63/100, step:200/404 loss: 0.1548\n",
            "epoch: 63/100, step:400/404 loss: 0.2191\n",
            "epoch: 64/100, step:200/404 loss: 0.2141\n",
            "epoch: 64/100, step:400/404 loss: 0.1829\n",
            "epoch: 65/100, step:200/404 loss: 0.2283\n",
            "epoch: 65/100, step:400/404 loss: 0.1744\n",
            "epoch: 66/100, step:200/404 loss: 0.1640\n",
            "epoch: 66/100, step:400/404 loss: 0.1917\n",
            "epoch: 67/100, step:200/404 loss: 0.1551\n",
            "epoch: 67/100, step:400/404 loss: 0.1576\n",
            "epoch: 68/100, step:200/404 loss: 0.2014\n",
            "epoch: 68/100, step:400/404 loss: 0.1943\n",
            "epoch: 69/100, step:200/404 loss: 0.1782\n",
            "epoch: 69/100, step:400/404 loss: 0.1701\n",
            "epoch: 70/100, step:200/404 loss: 0.1545\n",
            "epoch: 70/100, step:400/404 loss: 0.1387\n",
            "epoch: 71/100, step:200/404 loss: 0.2942\n",
            "epoch: 71/100, step:400/404 loss: 0.2437\n",
            "epoch: 72/100, step:200/404 loss: 0.2158\n",
            "epoch: 72/100, step:400/404 loss: 0.2028\n",
            "epoch: 73/100, step:200/404 loss: 0.2420\n",
            "epoch: 73/100, step:400/404 loss: 0.1905\n",
            "epoch: 74/100, step:200/404 loss: 0.1726\n",
            "epoch: 74/100, step:400/404 loss: 0.1732\n",
            "epoch: 75/100, step:200/404 loss: 0.1715\n",
            "epoch: 75/100, step:400/404 loss: 0.1290\n",
            "epoch: 76/100, step:200/404 loss: 0.1390\n",
            "epoch: 76/100, step:400/404 loss: 0.1779\n",
            "epoch: 77/100, step:200/404 loss: 0.2163\n",
            "epoch: 77/100, step:400/404 loss: 0.1759\n",
            "epoch: 78/100, step:200/404 loss: 0.2127\n",
            "epoch: 78/100, step:400/404 loss: 0.1462\n",
            "epoch: 79/100, step:200/404 loss: 0.2239\n",
            "epoch: 79/100, step:400/404 loss: 0.1703\n",
            "epoch: 80/100, step:200/404 loss: 0.1327\n",
            "epoch: 80/100, step:400/404 loss: 0.1676\n",
            "epoch: 81/100, step:200/404 loss: 0.2689\n",
            "epoch: 81/100, step:400/404 loss: 0.1773\n",
            "epoch: 82/100, step:200/404 loss: 0.1458\n",
            "epoch: 82/100, step:400/404 loss: 0.1437\n",
            "epoch: 83/100, step:200/404 loss: 0.2020\n",
            "epoch: 83/100, step:400/404 loss: 0.1638\n",
            "epoch: 84/100, step:200/404 loss: 0.1562\n",
            "epoch: 84/100, step:400/404 loss: 0.2242\n",
            "epoch: 85/100, step:200/404 loss: 0.1907\n",
            "epoch: 85/100, step:400/404 loss: 0.1299\n",
            "epoch: 86/100, step:200/404 loss: 0.1331\n",
            "epoch: 86/100, step:400/404 loss: 0.1447\n",
            "epoch: 87/100, step:200/404 loss: 0.1667\n",
            "epoch: 87/100, step:400/404 loss: 0.1352\n",
            "epoch: 88/100, step:200/404 loss: 0.2448\n",
            "epoch: 88/100, step:400/404 loss: 0.1541\n",
            "epoch: 89/100, step:200/404 loss: 0.2140\n",
            "epoch: 89/100, step:400/404 loss: 0.1687\n",
            "epoch: 90/100, step:200/404 loss: 0.2294\n",
            "epoch: 90/100, step:400/404 loss: 0.2513\n",
            "epoch: 91/100, step:200/404 loss: 0.1510\n",
            "epoch: 91/100, step:400/404 loss: 0.1908\n",
            "epoch: 92/100, step:200/404 loss: 0.1690\n",
            "epoch: 92/100, step:400/404 loss: 0.1975\n",
            "epoch: 93/100, step:200/404 loss: 0.1722\n",
            "epoch: 93/100, step:400/404 loss: 0.1507\n",
            "epoch: 94/100, step:200/404 loss: 0.1702\n",
            "epoch: 94/100, step:400/404 loss: 0.1285\n",
            "epoch: 95/100, step:200/404 loss: 0.1441\n",
            "epoch: 95/100, step:400/404 loss: 0.1871\n",
            "epoch: 96/100, step:200/404 loss: 0.1503\n",
            "epoch: 96/100, step:400/404 loss: 0.1423\n",
            "epoch: 97/100, step:200/404 loss: 0.1848\n",
            "epoch: 97/100, step:400/404 loss: 0.1501\n",
            "epoch: 98/100, step:200/404 loss: 0.2361\n",
            "epoch: 98/100, step:400/404 loss: 0.1564\n",
            "epoch: 99/100, step:200/404 loss: 0.1499\n",
            "epoch: 99/100, step:400/404 loss: 0.2100\n",
            "epoch: 100/100, step:200/404 loss: 0.1360\n",
            "epoch: 100/100, step:400/404 loss: 0.1850\n"
          ]
        }
      ]
    },
    {
      "cell_type": "code",
      "source": [
        "path = '/content/drive/MyDrive/SEISMIC MODELS/VAE/ANN_model_Subduction.pth'\n",
        "torch.save(model_ANN,path)"
      ],
      "metadata": {
        "id": "V6rMICXVnctD"
      },
      "execution_count": null,
      "outputs": []
    },
    {
      "cell_type": "code",
      "source": [
        "model_ANN.eval()\n",
        "with torch.no_grad():\n",
        "  y_pred = model_ANN(X_test)"
      ],
      "metadata": {
        "id": "a-e4mFa4AI0N"
      },
      "execution_count": 29,
      "outputs": []
    },
    {
      "cell_type": "code",
      "source": [
        "y_p = y_pred.detach().numpy()\n",
        "y_t = y_test.detach().numpy()"
      ],
      "metadata": {
        "id": "YeRIIGiFAf6-"
      },
      "execution_count": 30,
      "outputs": []
    },
    {
      "cell_type": "code",
      "source": [
        "from sklearn.metrics import r2_score\n",
        "\n",
        "# Calculate R^2 score for the first dataframe\n",
        "\n",
        "for i in range(111):\n",
        "  r2_score_1 = r2_score(y_p[:,i], y_t[:,i])\n",
        "  print(f\"r2 score for col {i+1}:\", r2_score_1)\n"
      ],
      "metadata": {
        "colab": {
          "base_uri": "https://localhost:8080/"
        },
        "id": "mQJSPQ1uAjde",
        "outputId": "c4a80dc7-676f-4304-9599-b66cd318ba3d"
      },
      "execution_count": 31,
      "outputs": [
        {
          "output_type": "stream",
          "name": "stdout",
          "text": [
            "r2 score for col 1: 0.7953646302796672\n",
            "r2 score for col 2: 0.7950476634744039\n",
            "r2 score for col 3: 0.7914976903859\n",
            "r2 score for col 4: 0.7938484093580985\n",
            "r2 score for col 5: 0.7935638154100702\n",
            "r2 score for col 6: 0.7926861153692403\n",
            "r2 score for col 7: 0.7860274901478204\n",
            "r2 score for col 8: 0.791766858078831\n",
            "r2 score for col 9: 0.7906125176186793\n",
            "r2 score for col 10: 0.7886284368463818\n",
            "r2 score for col 11: 0.7851922136861997\n",
            "r2 score for col 12: 0.7832553971988303\n",
            "r2 score for col 13: 0.7831145857483959\n",
            "r2 score for col 14: 0.7757905802185799\n",
            "r2 score for col 15: 0.7790261462139909\n",
            "r2 score for col 16: 0.7754643267110668\n",
            "r2 score for col 17: 0.7747891299654025\n",
            "r2 score for col 18: 0.7695344216063803\n",
            "r2 score for col 19: 0.7630281373073087\n",
            "r2 score for col 20: 0.7591847321372454\n",
            "r2 score for col 21: 0.7496221737980311\n",
            "r2 score for col 22: 0.7525280816975696\n",
            "r2 score for col 23: 0.744612647125763\n",
            "r2 score for col 24: 0.7410596675182449\n",
            "r2 score for col 25: 0.7310549402772468\n",
            "r2 score for col 26: 0.7291260223120508\n",
            "r2 score for col 27: 0.7249205435851005\n",
            "r2 score for col 28: 0.7300589030612991\n",
            "r2 score for col 29: 0.7351357203183564\n",
            "r2 score for col 30: 0.7393817137623073\n",
            "r2 score for col 31: 0.7421895189548808\n",
            "r2 score for col 32: 0.7440546181498784\n",
            "r2 score for col 33: 0.7431333373690012\n",
            "r2 score for col 34: 0.7468959887285724\n",
            "r2 score for col 35: 0.7487594940003774\n",
            "r2 score for col 36: 0.7532328011371394\n",
            "r2 score for col 37: 0.7557118249249956\n",
            "r2 score for col 38: 0.7558128575192191\n",
            "r2 score for col 39: 0.7559493013202631\n",
            "r2 score for col 40: 0.7607127943978604\n",
            "r2 score for col 41: 0.7718753333086122\n",
            "r2 score for col 42: 0.7668799116283797\n",
            "r2 score for col 43: 0.7739568036535353\n",
            "r2 score for col 44: 0.7784323678762006\n",
            "r2 score for col 45: 0.7799642117019314\n",
            "r2 score for col 46: 0.7823162849891464\n",
            "r2 score for col 47: 0.7841548582766288\n",
            "r2 score for col 48: 0.7824062869903288\n",
            "r2 score for col 49: 0.7907586331506927\n",
            "r2 score for col 50: 0.7959897731364337\n",
            "r2 score for col 51: 0.790924479193148\n",
            "r2 score for col 52: 0.7904944587927666\n",
            "r2 score for col 53: 0.7942687064001347\n",
            "r2 score for col 54: 0.7991470467584041\n",
            "r2 score for col 55: 0.8025836126187739\n",
            "r2 score for col 56: 0.8019476773573903\n",
            "r2 score for col 57: 0.7997670609226979\n",
            "r2 score for col 58: 0.8017880501902318\n",
            "r2 score for col 59: 0.796717180458791\n",
            "r2 score for col 60: 0.7969739116267696\n",
            "r2 score for col 61: 0.7992721797092872\n",
            "r2 score for col 62: 0.8009793727186234\n",
            "r2 score for col 63: 0.7860110078106132\n",
            "r2 score for col 64: 0.7915900582862176\n",
            "r2 score for col 65: 0.795383464641384\n",
            "r2 score for col 66: 0.7886350193607627\n",
            "r2 score for col 67: 0.7888196273589518\n",
            "r2 score for col 68: 0.7848352166456121\n",
            "r2 score for col 69: 0.7868434953384276\n",
            "r2 score for col 70: 0.7816693588290771\n",
            "r2 score for col 71: 0.7715543973616934\n",
            "r2 score for col 72: 0.7757941857213817\n",
            "r2 score for col 73: 0.7603729987695492\n",
            "r2 score for col 74: 0.7614441409862457\n",
            "r2 score for col 75: 0.7577480519582983\n",
            "r2 score for col 76: 0.7613082454064007\n",
            "r2 score for col 77: 0.7691640928959957\n",
            "r2 score for col 78: 0.7648955670929007\n",
            "r2 score for col 79: 0.7730133594729329\n",
            "r2 score for col 80: 0.7723506363516086\n",
            "r2 score for col 81: 0.7728795597373641\n",
            "r2 score for col 82: 0.7727929953092029\n",
            "r2 score for col 83: 0.7602918062204649\n",
            "r2 score for col 84: 0.7862120247182338\n",
            "r2 score for col 85: 0.7635759539198869\n",
            "r2 score for col 86: 0.7830929366534564\n",
            "r2 score for col 87: 0.7757916711282536\n",
            "r2 score for col 88: 0.7715639818396158\n",
            "r2 score for col 89: 0.7853941460892738\n",
            "r2 score for col 90: 0.7820183993831732\n",
            "r2 score for col 91: 0.7856565257834416\n",
            "r2 score for col 92: 0.7684932201024074\n",
            "r2 score for col 93: 0.8027295762424228\n",
            "r2 score for col 94: 0.7995311577319497\n",
            "r2 score for col 95: 0.8078997623745607\n",
            "r2 score for col 96: 0.8022552836845129\n",
            "r2 score for col 97: 0.8207963559562379\n",
            "r2 score for col 98: 0.8209060866787914\n",
            "r2 score for col 99: 0.8280876742881261\n",
            "r2 score for col 100: 0.8470204519730806\n",
            "r2 score for col 101: 0.8469336903000959\n",
            "r2 score for col 102: 0.8223461821322409\n",
            "r2 score for col 103: 0.844954732517766\n",
            "r2 score for col 104: 0.850908723456637\n",
            "r2 score for col 105: 0.867077382564641\n",
            "r2 score for col 106: 0.8590989665289273\n",
            "r2 score for col 107: 0.8337240893646631\n",
            "r2 score for col 108: 0.8515428193503638\n",
            "r2 score for col 109: 0.8291793334447166\n",
            "r2 score for col 110: 0.8282140519510613\n",
            "r2 score for col 111: 0.8440114236699245\n"
          ]
        }
      ]
    },
    {
      "cell_type": "code",
      "source": [
        "r2_score_1 = r2_score(y_p[:,:], y_t[:,:])\n",
        "print(f\"r2 score for ANN:\", r2_score_1)"
      ],
      "metadata": {
        "colab": {
          "base_uri": "https://localhost:8080/"
        },
        "id": "-uT8Esm1qj5T",
        "outputId": "86e06660-cadd-44ba-d156-0edf98279000"
      },
      "execution_count": 45,
      "outputs": [
        {
          "output_type": "stream",
          "name": "stdout",
          "text": [
            "r2 score for ANN: 0.7839584535238062\n"
          ]
        }
      ]
    },
    {
      "cell_type": "markdown",
      "source": [
        "==================================================================================================================="
      ],
      "metadata": {
        "id": "HfqRi95hB_10"
      }
    },
    {
      "cell_type": "code",
      "source": [
        "input_dim = n_labels\n",
        "latent_dim = 3\n",
        "output_dim = n_labels\n",
        "learning_rate = 0.01\n",
        "epochs = 30\n",
        "\n",
        "model = VAE(input_dim, latent_dim, output_dim)\n",
        "optimizer = optim.AdamW(model.parameters(), lr = learning_rate)"
      ],
      "metadata": {
        "id": "bAK3fEMPAm0l"
      },
      "execution_count": 32,
      "outputs": []
    },
    {
      "cell_type": "code",
      "source": [
        "l = []\n",
        "for epoch in range(epochs):\n",
        "  model.train()\n",
        "  epoch_loss = 0\n",
        "\n",
        "  for i, data in enumerate(train_loader):\n",
        "    _, output = data\n",
        "\n",
        "    optimizer.zero_grad()\n",
        "\n",
        "    x_recon, mean, logvar = model(output)\n",
        "\n",
        "    loss = VAE_loss(x_recon, output, mean, logvar)\n",
        "\n",
        "    loss.backward()\n",
        "    optimizer.step()\n",
        "\n",
        "    epoch_loss += loss.item()\n",
        "\n",
        "    if (i+1)%200 == 0:\n",
        "      print(f'epoch: {epoch+1}/{epochs}, step:{i+1}/{len(train_loader)} loss: {loss.item():.4f}')\n",
        "      l.append(loss.item())\n",
        "\n",
        "  print(f'Epoch {epoch+1} completed. Average Loss: {epoch_loss / len(train_loader):.4f}')"
      ],
      "metadata": {
        "colab": {
          "base_uri": "https://localhost:8080/"
        },
        "id": "8cfaRGyaCL_J",
        "outputId": "323ad830-d1d4-489c-b0e3-3f570d835e03"
      },
      "execution_count": 33,
      "outputs": [
        {
          "output_type": "stream",
          "name": "stdout",
          "text": [
            "epoch: 1/30, step:200/404 loss: 471.2450\n",
            "epoch: 1/30, step:400/404 loss: 372.0646\n",
            "Epoch 1 completed. Average Loss: 1118.9584\n",
            "epoch: 2/30, step:200/404 loss: 309.9283\n",
            "epoch: 2/30, step:400/404 loss: 299.8246\n",
            "Epoch 2 completed. Average Loss: 306.5487\n",
            "epoch: 3/30, step:200/404 loss: 296.5370\n",
            "epoch: 3/30, step:400/404 loss: 261.5830\n",
            "Epoch 3 completed. Average Loss: 285.9143\n",
            "epoch: 4/30, step:200/404 loss: 300.1345\n",
            "epoch: 4/30, step:400/404 loss: 283.5815\n",
            "Epoch 4 completed. Average Loss: 281.5618\n",
            "epoch: 5/30, step:200/404 loss: 273.3148\n",
            "epoch: 5/30, step:400/404 loss: 251.6711\n",
            "Epoch 5 completed. Average Loss: 268.2741\n",
            "epoch: 6/30, step:200/404 loss: 261.4437\n",
            "epoch: 6/30, step:400/404 loss: 301.7116\n",
            "Epoch 6 completed. Average Loss: 272.3793\n",
            "epoch: 7/30, step:200/404 loss: 255.4645\n",
            "epoch: 7/30, step:400/404 loss: 242.1634\n",
            "Epoch 7 completed. Average Loss: 258.5979\n",
            "epoch: 8/30, step:200/404 loss: 249.4934\n",
            "epoch: 8/30, step:400/404 loss: 280.4208\n",
            "Epoch 8 completed. Average Loss: 255.5813\n",
            "epoch: 9/30, step:200/404 loss: 220.6911\n",
            "epoch: 9/30, step:400/404 loss: 248.7550\n",
            "Epoch 9 completed. Average Loss: 251.4066\n",
            "epoch: 10/30, step:200/404 loss: 314.8112\n",
            "epoch: 10/30, step:400/404 loss: 282.4905\n",
            "Epoch 10 completed. Average Loss: 255.3423\n",
            "epoch: 11/30, step:200/404 loss: 292.9666\n",
            "epoch: 11/30, step:400/404 loss: 255.0441\n",
            "Epoch 11 completed. Average Loss: 255.2191\n",
            "epoch: 12/30, step:200/404 loss: 237.8663\n",
            "epoch: 12/30, step:400/404 loss: 308.6331\n",
            "Epoch 12 completed. Average Loss: 258.1371\n",
            "epoch: 13/30, step:200/404 loss: 256.1514\n",
            "epoch: 13/30, step:400/404 loss: 238.8006\n",
            "Epoch 13 completed. Average Loss: 257.1247\n",
            "epoch: 14/30, step:200/404 loss: 266.5833\n",
            "epoch: 14/30, step:400/404 loss: 243.2061\n",
            "Epoch 14 completed. Average Loss: 252.9673\n",
            "epoch: 15/30, step:200/404 loss: 236.9549\n",
            "epoch: 15/30, step:400/404 loss: 258.6599\n",
            "Epoch 15 completed. Average Loss: 252.1097\n",
            "epoch: 16/30, step:200/404 loss: 311.8470\n",
            "epoch: 16/30, step:400/404 loss: 256.0465\n",
            "Epoch 16 completed. Average Loss: 249.4514\n",
            "epoch: 17/30, step:200/404 loss: 297.2119\n",
            "epoch: 17/30, step:400/404 loss: 274.4053\n",
            "Epoch 17 completed. Average Loss: 254.9295\n",
            "epoch: 18/30, step:200/404 loss: 258.9106\n",
            "epoch: 18/30, step:400/404 loss: 317.0659\n",
            "Epoch 18 completed. Average Loss: 251.6314\n",
            "epoch: 19/30, step:200/404 loss: 262.3952\n",
            "epoch: 19/30, step:400/404 loss: 268.1733\n",
            "Epoch 19 completed. Average Loss: 246.9461\n",
            "epoch: 20/30, step:200/404 loss: 276.2509\n",
            "epoch: 20/30, step:400/404 loss: 244.4852\n",
            "Epoch 20 completed. Average Loss: 248.1598\n",
            "epoch: 21/30, step:200/404 loss: 248.9896\n",
            "epoch: 21/30, step:400/404 loss: 228.7336\n",
            "Epoch 21 completed. Average Loss: 256.7270\n",
            "epoch: 22/30, step:200/404 loss: 248.6834\n",
            "epoch: 22/30, step:400/404 loss: 245.9753\n",
            "Epoch 22 completed. Average Loss: 251.9944\n",
            "epoch: 23/30, step:200/404 loss: 240.2792\n",
            "epoch: 23/30, step:400/404 loss: 290.6952\n",
            "Epoch 23 completed. Average Loss: 247.8017\n",
            "epoch: 24/30, step:200/404 loss: 254.1666\n",
            "epoch: 24/30, step:400/404 loss: 223.6109\n",
            "Epoch 24 completed. Average Loss: 247.5574\n",
            "epoch: 25/30, step:200/404 loss: 236.1328\n",
            "epoch: 25/30, step:400/404 loss: 264.6057\n",
            "Epoch 25 completed. Average Loss: 249.2679\n",
            "epoch: 26/30, step:200/404 loss: 259.5009\n",
            "epoch: 26/30, step:400/404 loss: 272.5258\n",
            "Epoch 26 completed. Average Loss: 250.4244\n",
            "epoch: 27/30, step:200/404 loss: 244.0248\n",
            "epoch: 27/30, step:400/404 loss: 222.6549\n",
            "Epoch 27 completed. Average Loss: 246.0131\n",
            "epoch: 28/30, step:200/404 loss: 266.2935\n",
            "epoch: 28/30, step:400/404 loss: 248.3484\n",
            "Epoch 28 completed. Average Loss: 249.2082\n",
            "epoch: 29/30, step:200/404 loss: 291.0600\n",
            "epoch: 29/30, step:400/404 loss: 250.9922\n",
            "Epoch 29 completed. Average Loss: 252.5842\n",
            "epoch: 30/30, step:200/404 loss: 229.8650\n",
            "epoch: 30/30, step:400/404 loss: 239.1395\n",
            "Epoch 30 completed. Average Loss: 249.6617\n"
          ]
        }
      ]
    },
    {
      "cell_type": "code",
      "source": [
        "model.eval()\n",
        "\n",
        "with torch.no_grad():\n",
        "  y_pv,_,_ = model(y_pred)\n",
        "\n",
        "y_p_vae = y_pv.detach().numpy()"
      ],
      "metadata": {
        "id": "3pSrTlXhC5rY"
      },
      "execution_count": 34,
      "outputs": []
    },
    {
      "cell_type": "code",
      "source": [
        "path_vae = '/content/drive/MyDrive/SEISMIC MODELS/VAE/VAE_model_Subduction.pth'\n"
      ],
      "metadata": {
        "id": "sqFm6H3nnERz"
      },
      "execution_count": null,
      "outputs": []
    },
    {
      "cell_type": "code",
      "source": [
        "torch.save(model, path_vae)"
      ],
      "metadata": {
        "id": "M8mtTxJoZFP1"
      },
      "execution_count": null,
      "outputs": []
    },
    {
      "cell_type": "code",
      "source": [
        "model = torch.load(path_vae)"
      ],
      "metadata": {
        "id": "QhMhms1xZAu0"
      },
      "execution_count": null,
      "outputs": []
    },
    {
      "cell_type": "code",
      "source": [
        "from sklearn.metrics import r2_score\n",
        "\n",
        "# Calculate R^2 score for the first dataframe\n",
        "r = 0\n",
        "\n",
        "for i in range(111):\n",
        "  r2_score_1 = r2_score(y_p_vae[:,i], y_t[:,i])\n",
        "  print(f\"r2 score for col {i+1}:\", r2_score_1)"
      ],
      "metadata": {
        "colab": {
          "base_uri": "https://localhost:8080/"
        },
        "id": "Y1GxNz7LDGEi",
        "outputId": "9a015d71-d498-4186-b92d-1d66380ebcaa"
      },
      "execution_count": 35,
      "outputs": [
        {
          "output_type": "stream",
          "name": "stdout",
          "text": [
            "r2 score for col 1: 0.7738457076271926\n",
            "r2 score for col 2: 0.771941518137369\n",
            "r2 score for col 3: 0.7711898407944919\n",
            "r2 score for col 4: 0.7704352319873939\n",
            "r2 score for col 5: 0.7691837045408372\n",
            "r2 score for col 6: 0.7689769040322694\n",
            "r2 score for col 7: 0.7680543398584148\n",
            "r2 score for col 8: 0.7664969576633874\n",
            "r2 score for col 9: 0.7659721454182358\n",
            "r2 score for col 10: 0.7631411496253897\n",
            "r2 score for col 11: 0.7615263908927459\n",
            "r2 score for col 12: 0.7586511103584686\n",
            "r2 score for col 13: 0.757534032141833\n",
            "r2 score for col 14: 0.7569078475557502\n",
            "r2 score for col 15: 0.7553313572718162\n",
            "r2 score for col 16: 0.7538370829927105\n",
            "r2 score for col 17: 0.7471118250251674\n",
            "r2 score for col 18: 0.7427260084340334\n",
            "r2 score for col 19: 0.7376747173999818\n",
            "r2 score for col 20: 0.7353379066645002\n",
            "r2 score for col 21: 0.7303947888202154\n",
            "r2 score for col 22: 0.7271268050115749\n",
            "r2 score for col 23: 0.7256003653952721\n",
            "r2 score for col 24: 0.7208275705244616\n",
            "r2 score for col 25: 0.7151257637731939\n",
            "r2 score for col 26: 0.7126732342907292\n",
            "r2 score for col 27: 0.7142018843587289\n",
            "r2 score for col 28: 0.7130096101186396\n",
            "r2 score for col 29: 0.7149476294182371\n",
            "r2 score for col 30: 0.7236287304995608\n",
            "r2 score for col 31: 0.7250928532668033\n",
            "r2 score for col 32: 0.7289472189725439\n",
            "r2 score for col 33: 0.7312797237396194\n",
            "r2 score for col 34: 0.7343766021219503\n",
            "r2 score for col 35: 0.7386052281254062\n",
            "r2 score for col 36: 0.742307602831592\n",
            "r2 score for col 37: 0.7447618984368829\n",
            "r2 score for col 38: 0.7455443410413884\n",
            "r2 score for col 39: 0.7479359160214742\n",
            "r2 score for col 40: 0.7567168628543257\n",
            "r2 score for col 41: 0.7621568902716709\n",
            "r2 score for col 42: 0.7664023904115083\n",
            "r2 score for col 43: 0.7699349405365525\n",
            "r2 score for col 44: 0.772544462501557\n",
            "r2 score for col 45: 0.7751666114155467\n",
            "r2 score for col 46: 0.7796333255683181\n",
            "r2 score for col 47: 0.7828940967613284\n",
            "r2 score for col 48: 0.7840643108931813\n",
            "r2 score for col 49: 0.7863901368272659\n",
            "r2 score for col 50: 0.7899056601759555\n",
            "r2 score for col 51: 0.7936320607127485\n",
            "r2 score for col 52: 0.7964174503184088\n",
            "r2 score for col 53: 0.7975651931947589\n",
            "r2 score for col 54: 0.7974829220673485\n",
            "r2 score for col 55: 0.7975422247094485\n",
            "r2 score for col 56: 0.7974261932974058\n",
            "r2 score for col 57: 0.7989142279404954\n",
            "r2 score for col 58: 0.8028305777359818\n",
            "r2 score for col 59: 0.8043582970291339\n",
            "r2 score for col 60: 0.8020397280360754\n",
            "r2 score for col 61: 0.8018227703452999\n",
            "r2 score for col 62: 0.8003325942996453\n",
            "r2 score for col 63: 0.7979087341958061\n",
            "r2 score for col 64: 0.7995782458458321\n",
            "r2 score for col 65: 0.799680987717843\n",
            "r2 score for col 66: 0.7978763076388964\n",
            "r2 score for col 67: 0.7960030520434707\n",
            "r2 score for col 68: 0.7935639157809599\n",
            "r2 score for col 69: 0.7902357172986363\n",
            "r2 score for col 70: 0.7850733961758711\n",
            "r2 score for col 71: 0.7832023573932185\n",
            "r2 score for col 72: 0.7815008778062899\n",
            "r2 score for col 73: 0.7779329956425434\n",
            "r2 score for col 74: 0.7730879168370214\n",
            "r2 score for col 75: 0.7691117034388012\n",
            "r2 score for col 76: 0.7657349344723734\n",
            "r2 score for col 77: 0.767952190133853\n",
            "r2 score for col 78: 0.7683361503340324\n",
            "r2 score for col 79: 0.7666385933707529\n",
            "r2 score for col 80: 0.7652071655283547\n",
            "r2 score for col 81: 0.7666837401163373\n",
            "r2 score for col 82: 0.7705089551045409\n",
            "r2 score for col 83: 0.776406491959731\n",
            "r2 score for col 84: 0.7773652130674285\n",
            "r2 score for col 85: 0.7730153629843728\n",
            "r2 score for col 86: 0.7759403453558923\n",
            "r2 score for col 87: 0.777405578458761\n",
            "r2 score for col 88: 0.778820098299631\n",
            "r2 score for col 89: 0.7805824663154338\n",
            "r2 score for col 90: 0.7868748595241108\n",
            "r2 score for col 91: 0.7908971794253437\n",
            "r2 score for col 92: 0.7933726185029613\n",
            "r2 score for col 93: 0.7945179989802115\n",
            "r2 score for col 94: 0.7956053088807924\n",
            "r2 score for col 95: 0.7972126765682765\n",
            "r2 score for col 96: 0.7944611247611976\n",
            "r2 score for col 97: 0.7940165675790306\n",
            "r2 score for col 98: 0.7972725692616758\n",
            "r2 score for col 99: 0.7959670185467373\n",
            "r2 score for col 100: 0.7952913771504805\n",
            "r2 score for col 101: 0.7986916574104328\n",
            "r2 score for col 102: 0.8042277243436303\n",
            "r2 score for col 103: 0.8138920360511755\n",
            "r2 score for col 104: 0.8194876754226079\n",
            "r2 score for col 105: 0.8230999519663934\n",
            "r2 score for col 106: 0.8246800976895338\n",
            "r2 score for col 107: 0.8205842351942255\n",
            "r2 score for col 108: 0.8165053397637441\n",
            "r2 score for col 109: 0.8104797472642945\n",
            "r2 score for col 110: 0.806062360091128\n",
            "r2 score for col 111: 0.7816215103624695\n"
          ]
        }
      ]
    },
    {
      "cell_type": "code",
      "source": [
        "r2_score_1 = r2_score(y_p_vae[:,:], y_t[:,:])\n",
        "print(f\"r2 score for VAE:\", r2_score_1)"
      ],
      "metadata": {
        "colab": {
          "base_uri": "https://localhost:8080/"
        },
        "id": "ph2nDSQEr5g1",
        "outputId": "20766ff2-de0e-456a-8fb7-56e1a8ca7fe1"
      },
      "execution_count": 46,
      "outputs": [
        {
          "output_type": "stream",
          "name": "stdout",
          "text": [
            "r2 score for VAE: 0.7735010144201911\n"
          ]
        }
      ]
    },
    {
      "cell_type": "markdown",
      "source": [
        "**PLOTS**"
      ],
      "metadata": {
        "id": "vKh9cV86rREd"
      }
    },
    {
      "cell_type": "code",
      "source": [
        "l=[]\n",
        "\n",
        "model_ANN.eval()\n",
        "model.eval()\n",
        "\n",
        "rjb = 25\n",
        "region = 3\n",
        "intra_inter = 0\n",
        "\n",
        "r = [4,rjb,np.log10(rjb),600,region,intra_inter]\n",
        "r1 = [5,rjb,np.log10(rjb), 600,region,intra_inter]\n",
        "r2 = [6,rjb,np.log10(rjb), 600,region,intra_inter]\n",
        "r3 = [7,rjb,np.log10(rjb), 600,region,intra_inter]\n",
        "\n",
        "\n",
        "l.append(r)\n",
        "l.append(r1)\n",
        "l.append(r2)\n",
        "l.append(r3)\n",
        "\n",
        "\n",
        "l = torch.tensor(l, dtype=torch.float32)\n",
        "\n",
        "\n",
        "with torch.no_grad():\n",
        "  rp = model_ANN(l)\n",
        "with torch.no_grad():\n",
        "  prs,_,_ = model(rp)\n",
        "\n",
        "plt.plot(t, prs[0][:], label='Mw=4')\n",
        "plt.plot(t, prs[1][:], label='Mw=5')\n",
        "plt.plot(t, prs[2][:], label='Mw=6')\n",
        "plt.plot(t, prs[3][:], label='Mw=7')\n",
        "\n",
        "plt.xlabel('Time(s)')\n",
        "plt.ylabel('log PSA')\n",
        "plt.xscale('log')\n",
        "plt.grid(True, which = 'both')\n",
        "plt.title('Log PSA with varying Earthquake Magnitude')\n",
        "\n",
        "plt.legend()"
      ],
      "metadata": {
        "colab": {
          "base_uri": "https://localhost:8080/",
          "height": 493
        },
        "id": "c0DCxj4HDKUF",
        "outputId": "e6a41f63-9378-4789-a629-ba3a4e5fe52d"
      },
      "execution_count": 48,
      "outputs": [
        {
          "output_type": "execute_result",
          "data": {
            "text/plain": [
              "<matplotlib.legend.Legend at 0x79ec44013520>"
            ]
          },
          "metadata": {},
          "execution_count": 48
        },
        {
          "output_type": "display_data",
          "data": {
            "text/plain": [
              "<Figure size 640x480 with 1 Axes>"
            ],
            "image/png": "[encoded data removed]"
          },
          "metadata": {}
        }
      ]
    },
    {
      "cell_type": "code",
      "source": [
        "l=[]\n",
        "\n",
        "model_ANN.eval()\n",
        "model.eval()\n",
        "\n",
        "rjb = [10,25,50,100]\n",
        "region = 1\n",
        "intra_inter = 1\n",
        "\n",
        "r = [5,rjb[0],np.log10(rjb[0]),600,region,intra_inter]\n",
        "r1 = [5,rjb[1],np.log10(rjb[1]), 600,region,intra_inter]\n",
        "r2 = [5,rjb[2],np.log10(rjb[2]), 600,region,intra_inter]\n",
        "r3 = [5,rjb[3],np.log10(rjb[3]), 600,region,intra_inter]\n",
        "\n",
        "\n",
        "l.append(r)\n",
        "l.append(r1)\n",
        "l.append(r2)\n",
        "l.append(r3)\n",
        "\n",
        "\n",
        "l = torch.tensor(l, dtype=torch.float32)\n",
        "\n",
        "\n",
        "with torch.no_grad():\n",
        "  rp = model_ANN(l)\n",
        "with torch.no_grad():\n",
        "  prs,_,_ = model(rp)\n",
        "\n",
        "plt.plot(t, prs[0][:], label=f'Rjb={rjb[0]}')\n",
        "plt.plot(t, prs[1][:], label=f'Rjb={rjb[1]}')\n",
        "plt.plot(t, prs[2][:], label=f'Rjb={rjb[2]}')\n",
        "plt.plot(t, prs[3][:], label=f'Rjb={rjb[3]}')\n",
        "\n",
        "plt.xlabel('Time(s)')\n",
        "plt.ylabel('log PSA')\n",
        "plt.xscale('log')\n",
        "plt.grid(True, which = 'both')\n",
        "plt.title('Log PSA with varying Earthquake Magnitude')\n",
        "\n",
        "plt.legend()"
      ],
      "metadata": {
        "colab": {
          "base_uri": "https://localhost:8080/",
          "height": 493
        },
        "id": "zedMp1SfD25E",
        "outputId": "46c3726c-0c74-401a-9961-a7af4cdb45f2"
      },
      "execution_count": 49,
      "outputs": [
        {
          "output_type": "execute_result",
          "data": {
            "text/plain": [
              "<matplotlib.legend.Legend at 0x79ec43e40100>"
            ]
          },
          "metadata": {},
          "execution_count": 49
        },
        {
          "output_type": "display_data",
          "data": {
            "text/plain": [
              "<Figure size 640x480 with 1 Axes>"
            ],
            "image/png": "[encoded data removed]"
          },
          "metadata": {}
        }
      ]
    },
    {
      "cell_type": "code",
      "source": [
        "l = []\n",
        "\n",
        "rjb = np.arange(1,1005,5)\n",
        "region = 1\n",
        "intra_inter = 1\n",
        "\n",
        "\n",
        "for d in rjb:\n",
        "  r = [4,d,np.log10(d),600,region,intra_inter]\n",
        "  l.append(r)\n",
        "\n",
        "l = torch.tensor(l, dtype = torch.float32)\n",
        "\n",
        "with torch.no_grad():\n",
        "  rs = model_ANN(l)\n",
        "\n",
        "with torch.no_grad():\n",
        "  prs,_,_ = model(rs)\n",
        "\n",
        "plt.plot(l[:, 1], 10**prs[:, 0])\n",
        "plt.xlabel('Rjb(km)')\n",
        "plt.ylabel('PSA 0.01s')\n",
        "plt.yscale('log')\n",
        "plt.title('Rjb vs PSA 0.01s')\n",
        "plt.show()"
      ],
      "metadata": {
        "colab": {
          "base_uri": "https://localhost:8080/",
          "height": 472
        },
        "id": "FXxhENaJFHib",
        "outputId": "f5ae1962-ae98-44a8-92ca-a95582e75b91"
      },
      "execution_count": 43,
      "outputs": [
        {
          "output_type": "display_data",
          "data": {
            "text/plain": [
              "<Figure size 640x480 with 1 Axes>"
            ],
            "image/png": "[encoded data removed]"
          },
          "metadata": {}
        }
      ]
    },
    {
      "cell_type": "code",
      "source": [
        "intra = df[df['Intra_Inter_Flag'] == 1]\n",
        "inter = df[df['Intra_Inter_Flag'] == 0]"
      ],
      "metadata": {
        "id": "W09N8bSrFrdy"
      },
      "execution_count": null,
      "outputs": []
    },
    {
      "cell_type": "code",
      "source": [],
      "metadata": {
        "id": "dNNZFp4_ooXC"
      },
      "execution_count": null,
      "outputs": []
    }
  ]
}